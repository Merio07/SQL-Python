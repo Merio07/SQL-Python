{
 "cells": [
  {
   "cell_type": "markdown",
   "id": "cd857e0c",
   "metadata": {},
   "source": [
    "### Capítulo 3\n"
   ]
  },
  {
   "cell_type": "markdown",
   "id": "8eb6728f",
   "metadata": {},
   "source": [
    "Tenemos ya los capítulos previos que nos ayudaron a crear una base de datos y una tabla y también consultar usando pandas, claro que podríamos \n",
    "esto aquí y continuar con pandas, pero podemos exprimir al máximo SQL para aprenderlo por completo con tareas bases que estaremos realizando \n",
    "después, por ahora nos interesa terminar con una ultima questión que nos podría aquejar a posteriorí, el como podemos de un archivo CSV a una tabla de SQL. \n",
    "Esta es una pregunta que la podremos resolver aquí, tenemos dos archivos Empresa1.csv y Empresa2.csv, esto nos ayudarán para nuestra labor. "
   ]
  },
  {
   "cell_type": "code",
   "execution_count": 9,
   "id": "d7c00259",
   "metadata": {},
   "outputs": [],
   "source": [
    "import pandas as pd\n",
    "import sqlite3\n",
    "\n",
    "df1 = pd.read_csv('Empresa1.csv')\n",
    "df2 = pd.read_csv('Empresa2.csv')\n",
    "\n"
   ]
  },
  {
   "cell_type": "markdown",
   "id": "ffaf6b4c",
   "metadata": {},
   "source": [
    "Ahora cargaremos los datos a SQL"
   ]
  },
  {
   "cell_type": "code",
   "execution_count": null,
   "id": "d31b0845",
   "metadata": {},
   "outputs": [],
   "source": [
    "conn =  sqlite3.connect('empresas.db')\n",
    "df1.to_sql('empresa1', conn, if_exists='replace', index=False)\n",
    "df2.to_sql('empresa2', conn, if_exists='replace', index=False)\n",
    "conn.close()"
   ]
  },
  {
   "cell_type": "markdown",
   "id": "e6a6856a",
   "metadata": {},
   "source": [
    "#### SELECT + LIMIT"
   ]
  },
  {
   "cell_type": "markdown",
   "id": "5b228823",
   "metadata": {},
   "source": []
  }
 ],
 "metadata": {
  "kernelspec": {
   "display_name": "Python 3",
   "language": "python",
   "name": "python3"
  },
  "language_info": {
   "codemirror_mode": {
    "name": "ipython",
    "version": 3
   },
   "file_extension": ".py",
   "mimetype": "text/x-python",
   "name": "python",
   "nbconvert_exporter": "python",
   "pygments_lexer": "ipython3",
   "version": "3.9.13"
  }
 },
 "nbformat": 4,
 "nbformat_minor": 5
}
