{
 "cells": [
  {
   "cell_type": "markdown",
   "id": "281c1049",
   "metadata": {},
   "source": [
    "<center>\n",
    "\n",
    "### Capítulo 1\n",
    "\n",
    "</center>\n"
   ]
  },
  {
   "cell_type": "markdown",
   "id": "fbb09077",
   "metadata": {},
   "source": [
    "##### ¿Qué es SQL?\n",
    "\n",
    "La definición formal de **SQL** es **\"Stuctured Query Language\"**. Es un lenguaje de consulta y manipulación de datos que permite a los usuarios realizar \n",
    "operaciones de selección, creación, actualización y eliminación de datos en una base de datos relacional. SQL es un lenguaje de alto nivel, \n",
    "lo que significa que es fácil de leer y entender, y es capaz de realizar operaciones complejas de manera eficiente. \n",
    "SQL funciona sobre sistemas gestores de bases de datos \"DBMS\", como SQLite, PostgreSQL, MySQL, etc. Es como hablarle a la base de datos para que te entegre o manipule información.\n",
    "\n",
    "Nosotros usaremos SQl en Python, ¿pero cómo? En python podemos interactuar con bases de datos usando módulos especializados, como\n",
    "- `SQLite --> sqlite3(incluida en python)`\n",
    "- `MySQL --> mysql.connector`\n",
    "- `PostgreSQL --> psycopg2`\n",
    "\n",
    "También podemos usar pandas junto con SQL para combinar poder de ambos mundos, es decir, podemos usar SQL para consultas de datos y pandas para manipularlos en Python.\n",
    "\n"
   ]
  },
  {
   "cell_type": "markdown",
   "id": "3acff1a2",
   "metadata": {},
   "source": [
    "##### Creación de una base de datos con python\n",
    "\n",
    "Primero crearemos el archivo `mi_base.db` desde python, este codigo también nos permite a hacer la conexión con la base de datos.\n",
    "Declaramos la variable `conn` y la inicializamos con el método `connect()` de la librería `sqlite3`.\n",
    "```python\n",
    "import sqlite3\n",
    "conn = sqlite3.connect(\"mi_base.db\") \n",
    "```\n",
    "\n",
    "Ahora necesitamos crear una tabla en la base de datos, para esto usamos el método `cursor()` de la librería `sqlite3`. Este método nos permite crear un cursor, que nos permite ejecutar sentencias SQL en la base de datos.\n",
    "\n",
    "```python\n",
    "cursor = conn.cursor()\n",
    "```\n",
    "Ahora ya podemos escribir la sentencia SQL para crear la tabla, en este caso la tabla `empleados` con dos columnas: \n",
    "`id`, `nombre`, `edad`, `salario`, para ello usaremos una setencia de SQL. \n",
    "\n",
    "---\n",
    "##### Crear una tabla en SQL \n",
    "La sintaxis que usaremos para crear una tabla en SQL es la siguiente: `CREATE TABLE IF NOT EXIST nombre_tabla`, con esto podemos crear una tabla si no existe, si existe crea otra. Además tenemos que ingresar paramétros a esta tabla, en este caso podemos hacer como el ejemplo siguiente:\n",
    "\n",
    "```sql\n",
    "CREATE TABLE IF NOT EXISTS empleados (\n",
    "    id INTEGER PRIMARY KEY AUTOINCREMENT,         -- Clave primaria autoincremental\n",
    "    nombre TEXT NOT NULL,                         -- Texto obligatorio\n",
    "    edad INTEGER CHECK (edad >= 18),              -- Edad debe ser mayor o igual a 18\n",
    "    salario REAL DEFAULT 0.0,                     -- Valor por defecto: 0.0\n",
    "    email TEXT UNIQUE,                            -- No se permiten correos repetidos\n",
    "    fecha_ingreso TEXT DEFAULT CURRENT_DATE,      -- Fecha por defecto: día actual\n",
    "    departamento_id INTEGER,                      -- Clave foránea\n",
    "    FOREIGN KEY (departamento_id) REFERENCES departamentos(id)  -- Relación con otra tabla\n",
    ");\n",
    "\n",
    "```\n",
    "---\n",
    "#### Tipos de Datos Enteros\n",
    "Los tipos de datos enteros se utilizan para almacenar números enteros (números sin componente fraccional). El tamaño de almacenamiento específico, el valor mínimo y el valor máximo pueden variar ligeramente según el sistema de base de datos SQL (por ejemplo, SQLite, MySQL, PostgreSQL, SQL Server). Sin embargo, los principios generales son los mismos.\n",
    "\n",
    "| Tipo          | Almacenamiento (Bytes) | Valor Mínimo                 | Valor Máximo                  |\n",
    "|---------------|------------------------|-----------------------------|------------------------------|\n",
    "| TINYINT       | 1                      | -128                        | 127                          |\n",
    "| SMALLINT      | 2                      | -32,768                     | 32,767                       |\n",
    "| MEDIUMINT     | 3                      | -8,388,608                  | 8,388,607                    |\n",
    "| INT / INTEGER | 4                      | -2,147,483,648              | 2,147,483,647                |\n",
    "| BIGINT        | 8                      | -9,223,372,036,854,775,808 | 9,223,372,036,854,775,807   |\n",
    "Nota: Algunas variantes de SQL también ofrecen tipos enteros UNSIGNED (sin signo), que solo almacenan valores no negativos y, de hecho, duplican el rango positivo. Por ejemplo, un TINYINT UNSIGNED podría ir de 0 a 255.\n",
    "#### Tipos de Datos Reales (Números de Punto Flotante)\n",
    "Los tipos de datos reales, también conocidos como tipos de punto flotante, se utilizan para almacenar números con decimales. Estos tipos son aproximaciones, lo que significa que pueden no almacenar el valor exacto, sino una representación muy cercana. Esto puede ser importante para cálculos financieros donde la precisión es primordial; para tales casos, a menudo se prefieren los tipos DECIMAL o NUMERIC (que almacenan valores exactos).\n",
    "\n",
    "| Tipo                  | Almacenamiento (Bytes) | Descripción                                                                                          | Precisión Típica        |\n",
    "|-----------------------|------------------------|----------------------------------------------------------------------------------------------------|------------------------|\n",
    "| REAL / FLOAT          | 4                      | Número de punto flotante de precisión simple. Bueno para cálculos científicos o de ingeniería generales donde la precisión exacta no es crítica. | ~7 dígitos decimales   |\n",
    "| DOUBLE / DOUBLE PRECISION | 8                      | Número de punto flotante de doble precisión. Ofrece mayor precisión que REAL o FLOAT.               | ~15 dígitos decimales  |\n",
    "\n",
    "\n",
    "#### Otros Tipos de Datos Comunes en SQL\n",
    "Aunque los números enteros y reales son fundamentales, SQL ofrece un amplio conjunto de otros tipos de datos para diversos propósitos:\n",
    "\n",
    "| Tipo                  | Descripción                                                                                                                  |\n",
    "|-----------------------|------------------------------------------------------------------------------------------------------------------------------|\n",
    "| TEXT                  | Se utiliza para almacenar cadenas de caracteres de longitud variable. Ejemplos incluyen nombres, direcciones o descripciones. La longitud máxima puede variar según el sistema de base de datos, pero generalmente es muy grande. |\n",
    "| BLOB                  | Acrónimo de \"Binary Large Object\" (Objeto Binario Grande). Se utiliza para almacenar datos binarios como imágenes, archivos de audio u otros elementos multimedia. Es esencialmente una secuencia de bytes. |\n",
    "| BOOLEAN               | Almacena valores de verdad, típicamente representados como TRUE o FALSE. Algunos sistemas pueden usar 1 para verdadero y 0 para falso, o incluso permitir NULL. |\n",
    "| DATE                  | Almacena una fecha del calendario (por ejemplo, 'AAAA-MM-DD').                                                                |\n",
    "| TIME                  | Almacena una hora del día (por ejemplo, 'HH:MM:SS').                                                                           |\n",
    "| DATETIME / TIMESTAMP  | Almacena tanto una fecha como una hora. TIMESTAMP a menudo incluye información de zona horaria y puede actualizarse automáticamente. |\n",
    "| DECIMAL(P, S) / NUMERIC(P, S) | Se utiliza para almacenar valores numéricos exactos. P representa el número total de dígitos (precisión) y S el número de dígitos después del punto decimal (escala). Crucial para cálculos financieros donde la precisión es vital. |\n",
    "\n",
    "---\n",
    "##### Crear una tabla en SQL usando python\n",
    "\n",
    "Ya tenemos todo lo necesario para crear una tabla teniendo ya la base de datos `mi_base.db` y el cursor `cursor` creado anteriormente. \n",
    "Para crear la tabla `empleados` usaremos la sentencia SQL anteriormente escrita, y la ejecutaremos con el método `execute()` del cursor que nos permitirá ejecutar sentencias SQL en la base de datos. \n",
    "```python\n",
    "cursor.execute('''\n",
    "    CREATE TABLE IF NOT EXISTS empleados (\n",
    "        id INTEGER PRIMARY KEY,\n",
    "        nombre TEXT,\n",
    "        edad INTEGER,\n",
    "        salario REAL\n",
    "    )\n",
    "''')\n",
    "```\n"
   ]
  },
  {
   "cell_type": "code",
   "execution_count": 2,
   "id": "4a56a989",
   "metadata": {},
   "outputs": [
    {
     "data": {
      "text/plain": [
       "<sqlite3.Cursor at 0x1ad93c41f10>"
      ]
     },
     "execution_count": 2,
     "metadata": {},
     "output_type": "execute_result"
    }
   ],
   "source": [
    "import sqlite3\n",
    "\n",
    "\n",
    "#Crear una conexión a la base de datos SQLite (o conectar a una existente).\n",
    "conn = sqlite3.connect(\"mi_base.db\")\n",
    "cursor = conn.cursor()\n",
    "\n",
    "# Crear una tabla si no existe\n",
    "\n",
    "cursor.execute('''\n",
    "    CREATE TABLE IF NOT EXISTS empleados (\n",
    "        id INTEGER PRIMARY KEY,\n",
    "        nombre TEXT,\n",
    "        edad INTEGER,\n",
    "        salario REAL\n",
    "    )\n",
    "''')"
   ]
  },
  {
   "cell_type": "markdown",
   "id": "4d75eaa6",
   "metadata": {},
   "source": [
    "#### Agregar datos a una tabla de SQL desde python\n",
    "\n",
    "Todo lo que hicimos anteriormente es al ejecutar el código anterior creamos un `mi_base.db` que es un archivo de SQL donde consultaremos nuestra data y en el codigo después pudimos crear una tabla de empleados, en las que tiene un id, nombre y salario, simulando que vamos a meter a todos nuestros empleados en la base de datos que récien acabamos de realizar. Ahora, es obvio que nuestra base de datos se encuentra totalmente vacía en este punto, entonces desde python agregaremos datos a nuestra base de datos."
   ]
  },
  {
   "cell_type": "code",
   "execution_count": 7,
   "id": "82f459c2",
   "metadata": {},
   "outputs": [],
   "source": [
    "cursor.execute(\"INSERT INTO empleados(nombre, edad, salario) VALUES('Miguel', 30, 3000.00)\")\n",
    "conn.commit() #Guardar los cambios\n",
    "conn.close() #Cerrar la conexión a la base de datos"
   ]
  },
  {
   "cell_type": "markdown",
   "id": "e2a4f6f8",
   "metadata": {},
   "source": [
    "Si queremos agregar muchos datos al mismo tiempo, podemos usar el siguiente código:"
   ]
  },
  {
   "cell_type": "code",
   "execution_count": null,
   "id": "50ef5c32",
   "metadata": {},
   "outputs": [],
   "source": [
    "#Insertar algunos datos en la tabla empleados\n",
    "\n",
    "cursor.executemany('''\n",
    "    INSERT INTO empleados (nombre, edad, salario) VALUES (?, ?, ?)\n",
    "''', [ \n",
    "    (\"Ana\",30,40000.0),\n",
    "    (\"Luis\", 25, 38000.0),\n",
    "    (\"Sofía\", 35, 52000.0),\n",
    "    (\"Pedro\", 28, 45000.0),\n",
    "])\n",
    "conn.commit() #Guardar los cambios\n",
    "conn.close() #Cerrar la conexión a la base de datos"
   ]
  },
  {
   "cell_type": "markdown",
   "id": "48d4b53c",
   "metadata": {},
   "source": [
    "#### DROP TABLE\n",
    "\n",
    "Si nosotros queremos borrar una tabla, lo que debemos hacer es utilizar la siguiente sentencia:\n",
    "\n",
    "```SQL\n",
    "DROP TABLE nombre_tabla;\n",
    "```\n"
   ]
  }
 ],
 "metadata": {
  "kernelspec": {
   "display_name": "Python 3",
   "language": "python",
   "name": "python3"
  },
  "language_info": {
   "codemirror_mode": {
    "name": "ipython",
    "version": 3
   },
   "file_extension": ".py",
   "mimetype": "text/x-python",
   "name": "python",
   "nbconvert_exporter": "python",
   "pygments_lexer": "ipython3",
   "version": "3.9.13"
  }
 },
 "nbformat": 4,
 "nbformat_minor": 5
}
