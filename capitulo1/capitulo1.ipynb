{
 "cells": [
  {
   "cell_type": "markdown",
   "id": "281c1049",
   "metadata": {},
   "source": [
    "<center>\n",
    "\n",
    "### Capítulo 1\n",
    "\n",
    "</center>\n"
   ]
  },
  {
   "cell_type": "markdown",
   "id": "fbb09077",
   "metadata": {},
   "source": [
    "##### ¿Qué es SQL?\n",
    "\n",
    "La definición formal de **SQL** es **\"Stuctured Query Language\"**. Es un lenguaje de consulta y manipulación de datos que permite a los usuarios realizar \n",
    "operaciones de selección, creación, actualización y eliminación de datos en una base de datos relacional. SQL es un lenguaje de alto nivel, \n",
    "lo que significa que es fácil de leer y entender, y es capaz de realizar operaciones complejas de manera eficiente. \n",
    "SQL funciona sobre sistemas gestores de bases de datos \"DBMS\", como SQLite, PostgreSQL, MySQL, etc. Es como hablarle a la base de datos para que te entegre o manipule información.\n",
    "\n",
    "Nosotros usaremos SQl en Python, ¿pero cómo? En python podemos interactuar con bases de datos usando módulos especializados, como\n",
    "- `SQLite --> sqlite3(incluida en python)`\n",
    "- `MySQL --> mysql.connector`\n",
    "- `PostgreSQL --> psycopg2`\n",
    "\n",
    "También podemos usar pandas junto con SQL para combinar poder de ambos mundos, es decir, podemos usar SQL para consultas de datos y pandas para manipularlos en Python.\n",
    "\n"
   ]
  },
  {
   "cell_type": "markdown",
   "id": "3acff1a2",
   "metadata": {},
   "source": [
    "##### Creación de una base de datos con python\n",
    "\n",
    "Primero crearemos el archivo `mi_base.db` desde python, este codigo también nos permite a hacer la conexión con la base de datos.\n",
    "Declaramos la variable `conn` y la inicializamos con el método `connect()` de la librería `sqlite3`.\n",
    "```python\n",
    "import sqlite3\n",
    "conn = sqlite3.connect(\"mi_base.db\") \n",
    "```\n",
    "\n",
    "Ahora necesitamos crear una tabla en la base de datos, para esto usamos el método `cursor()` de la librería `sqlite3`. Este método nos permite crear un cursor, que nos permite ejecutar sentencias SQL en la base de datos.\n",
    "\n",
    "```python\n",
    "cursor = conn.cursor()\n",
    "```\n",
    "Ahora ya podemos escribir la sentencia SQL para crear la tabla, en este caso la tabla `empleados` con dos columnas: \n",
    "`id`, `nombre`, `edad`, `salario`, para ello usaremos una setencia de SQL. \n",
    "\n",
    "---\n",
    "##### Crear una tabla en SQL \n",
    "La sintaxis que usaremos para crear una tabla en SQL es la siguiente: `CREATE TABLE IF NOT EXIST nombre_tabla`, con esto podemos crear una tabla si no existe, si existe crea otra. Además tenemos que ingresar paramétros a esta tabla, en este caso podemos hacer como el ejemplo siguiente:\n",
    "\n",
    "```sql\n",
    "CREATE TABLE IF NOT EXISTS empleados (\n",
    "    id INTEGER PRIMARY KEY AUTOINCREMENT,         -- Clave primaria autoincremental\n",
    "    nombre TEXT NOT NULL,                         -- Texto obligatorio\n",
    "    edad INTEGER CHECK (edad >= 18),              -- Edad debe ser mayor o igual a 18\n",
    "    salario REAL DEFAULT 0.0,                     -- Valor por defecto: 0.0\n",
    "    email TEXT UNIQUE,                            -- No se permiten correos repetidos\n",
    "    fecha_ingreso TEXT DEFAULT CURRENT_DATE,      -- Fecha por defecto: día actual\n",
    "    departamento_id INTEGER,                      -- Clave foránea\n",
    "    FOREIGN KEY (departamento_id) REFERENCES departamentos(id)  -- Relación con otra tabla\n",
    ");\n",
    "\n",
    "```\n",
    "\n",
    "---\n",
    "##### Crear una tabla en SQL usando python\n",
    "\n",
    "Ya tenemos todo lo necesario para crear una tabla teniendo ya la base de datos `mi_base.db` y el cursor `cursor` creado anteriormente. \n",
    "Para crear la tabla `empleados` usaremos la sentencia SQL anteriormente escrita, y la ejecutaremos con el método `execute()` del cursor que nos permitirá ejecutar sentencias SQL en la base de datos. \n",
    "```python\n",
    "cursor.execute('''\n",
    "    CREATE TABLE IF NOT EXISTS empleados (\n",
    "        id INTEGER PRIMARY KEY,\n",
    "        nombre TEXT,\n",
    "        edad INTEGER,\n",
    "        salario REAL\n",
    "    )\n",
    "''')\n",
    "```\n"
   ]
  },
  {
   "cell_type": "code",
   "execution_count": 3,
   "id": "4a56a989",
   "metadata": {},
   "outputs": [
    {
     "data": {
      "text/plain": [
       "<sqlite3.Cursor at 0x20ff7601420>"
      ]
     },
     "execution_count": 3,
     "metadata": {},
     "output_type": "execute_result"
    }
   ],
   "source": [
    "import sqlite3\n",
    "\n",
    "\n",
    "#Crear una conexión a la base de datos SQLite (o conectar a una existente).\n",
    "conn = sqlite3.connect(\"mi_base.db\")\n",
    "cursor = conn.cursor()\n",
    "\n",
    "# Crear una tabla si no existe\n",
    "\n",
    "cursor.execute('''\n",
    "    CREATE TABLE IF NOT EXISTS empleados (\n",
    "        id INTEGER PRIMARY KEY,\n",
    "        nombre TEXT,\n",
    "        edad INTEGER,\n",
    "        salario REAL\n",
    "    )\n",
    "''')"
   ]
  },
  {
   "cell_type": "markdown",
   "id": "4d75eaa6",
   "metadata": {},
   "source": [
    "#### Agregar datos a una tabla de SQL desde python\n",
    "\n",
    "Todo lo que hicimos anteriormente es al ejecutar el código anterior creamos un `mi_base.db` que es un archivo de SQL donde consultaremos nuestra data y en el codigo después pudimos crear una tabla de empleados, en las que tiene un id, nombre y salario, simulando que vamos a meter a todos nuestros empleados en la base de datos que récien acabamos de realizar. Ahora, es obvio que nuestra base de datos se encuentra totalmente vacía en este punto, entonces desde python agregaremos datos a nuestra base de datos."
   ]
  },
  {
   "cell_type": "code",
   "execution_count": 4,
   "id": "50ef5c32",
   "metadata": {},
   "outputs": [],
   "source": [
    "#Insertar algunos datos en la tabla empleados\n",
    "\n",
    "cursor.executemany('''\n",
    "    INSERT INTO empleados (nombre, edad, salario) VALUES (?, ?, ?)\n",
    "''', [ \n",
    "    (\"Ana\",30,40000.0),\n",
    "    (\"Luis\", 25, 38000.0),\n",
    "    (\"Sofía\", 35, 52000.0),\n",
    "    (\"Pedro\", 28, 45000.0),\n",
    "])\n",
    "conn.commit() #Guardar los cambios\n",
    "conn.close() #Cerrar la conexión a la base de datos"
   ]
  }
 ],
 "metadata": {
  "kernelspec": {
   "display_name": "Python 3",
   "language": "python",
   "name": "python3"
  },
  "language_info": {
   "codemirror_mode": {
    "name": "ipython",
    "version": 3
   },
   "file_extension": ".py",
   "mimetype": "text/x-python",
   "name": "python",
   "nbconvert_exporter": "python",
   "pygments_lexer": "ipython3",
   "version": "3.9.13"
  }
 },
 "nbformat": 4,
 "nbformat_minor": 5
}
