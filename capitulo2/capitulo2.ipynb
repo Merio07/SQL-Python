{
 "cells": [
  {
   "cell_type": "markdown",
   "id": "9e6e2302",
   "metadata": {},
   "source": [
    "<center>\n",
    "\n",
    "### Capítulo 2\n",
    "\n",
    "</center>\n"
   ]
  },
  {
   "cell_type": "markdown",
   "id": "828e60a6",
   "metadata": {},
   "source": [
    "Ahora nosotros nos encargaremos de cumplir una promesa anterior: ya sabemos claramente cómo crear una base de datos y agregarle datos, así que el siguiente paso lógico es **obtener esa información desde Python** para poder manipularla usando **Pandas**.\n",
    "\n",
    "Para ello, utilizaremos la misma base de datos creada en el capítulo 1.  \n",
    "Pero antes de comenzar, vamos a entender con calma los comandos `SELECT` y `FROM`.\n",
    "\n",
    "---\n",
    "\n",
    "##### SELECT y FROM\n",
    "\n",
    "El comando `SELECT` nos permite seleccionar los datos de una tabla. Para usarlo, debemos indicar qué columnas queremos consultar.  \n",
    "Por otro lado, el comando `FROM` nos dice **de qué tabla** queremos obtener los datos.\n",
    "\n",
    "Si queremos ver **toda la información** de una tabla, usamos el asterisco `*` como comodín.  \n",
    "Por ejemplo, supongamos que nuestra base de datos se llama `mi_base.db` y contiene una tabla llamada `empleados`.  \n",
    "Podemos obtener todo el contenido de esa tabla con la siguiente consulta SQL:\n",
    "\n",
    "```sql\n",
    "SELECT * FROM empleados;\n",
    "```\n",
    "Esta instrucción nos devolverá todas las filas y columnas de la tabla empleados.\n",
    "Ahora bien, vamos a ejecutar esta misma consulta desde Python utilizando Pandas. Para eso usamos la función pd.read_sql_query:\n",
    "\n",
    "```python\n",
    "df = pd.read_sql_query(\"SELECT * FROM empleados\", conn)\n",
    "```\n",
    "- df es la variable donde guardaremos el resultado, un DataFrame de Pandas.\n",
    "\n",
    "- \"SELECT * FROM empleados\" es la consulta SQL que ya explicamos.\n",
    "\n",
    "- conn es la conexión a la base de datos que configuramos previamente en el capítulo 1.\n",
    "\n",
    "El ejemplo completo se encuentra en el siguiente código:"
   ]
  },
  {
   "cell_type": "code",
   "execution_count": 2,
   "id": "4196f535",
   "metadata": {},
   "outputs": [
    {
     "data": {
      "text/html": [
       "<div>\n",
       "<style scoped>\n",
       "    .dataframe tbody tr th:only-of-type {\n",
       "        vertical-align: middle;\n",
       "    }\n",
       "\n",
       "    .dataframe tbody tr th {\n",
       "        vertical-align: top;\n",
       "    }\n",
       "\n",
       "    .dataframe thead th {\n",
       "        text-align: right;\n",
       "    }\n",
       "</style>\n",
       "<table border=\"1\" class=\"dataframe\">\n",
       "  <thead>\n",
       "    <tr style=\"text-align: right;\">\n",
       "      <th></th>\n",
       "      <th>id</th>\n",
       "      <th>nombre</th>\n",
       "      <th>edad</th>\n",
       "      <th>salario</th>\n",
       "    </tr>\n",
       "  </thead>\n",
       "  <tbody>\n",
       "    <tr>\n",
       "      <th>0</th>\n",
       "      <td>1</td>\n",
       "      <td>Ana</td>\n",
       "      <td>30</td>\n",
       "      <td>40000.0</td>\n",
       "    </tr>\n",
       "    <tr>\n",
       "      <th>1</th>\n",
       "      <td>2</td>\n",
       "      <td>Luis</td>\n",
       "      <td>25</td>\n",
       "      <td>38000.0</td>\n",
       "    </tr>\n",
       "    <tr>\n",
       "      <th>2</th>\n",
       "      <td>3</td>\n",
       "      <td>Sofía</td>\n",
       "      <td>35</td>\n",
       "      <td>52000.0</td>\n",
       "    </tr>\n",
       "    <tr>\n",
       "      <th>3</th>\n",
       "      <td>4</td>\n",
       "      <td>Pedro</td>\n",
       "      <td>28</td>\n",
       "      <td>45000.0</td>\n",
       "    </tr>\n",
       "  </tbody>\n",
       "</table>\n",
       "</div>"
      ],
      "text/plain": [
       "   id nombre  edad  salario\n",
       "0   1    Ana    30  40000.0\n",
       "1   2   Luis    25  38000.0\n",
       "2   3  Sofía    35  52000.0\n",
       "3   4  Pedro    28  45000.0"
      ]
     },
     "execution_count": 2,
     "metadata": {},
     "output_type": "execute_result"
    }
   ],
   "source": [
    "import sqlite3\n",
    "import pandas as pd\n",
    "\n",
    "#Conectar a la base de datos\n",
    "\n",
    "conn = sqlite3.connect('mi_base.db') \n",
    "df = pd.read_sql_query(\"SELECT * FROM empleados\", conn) \n",
    "df\n"
   ]
  },
  {
   "cell_type": "markdown",
   "id": "2b1dc9b3",
   "metadata": {},
   "source": [
    "Podemos adquirir aún más información gracias a condicionar la consulta de la tabla, es decir, podemos filtrar los datos que queremos obtener usando una condición de búsqueda `WHERE`.\n",
    "\n",
    "También podemos usar operadores de comparación y operadores lógicos para filtrar los datos, estos son los siguientes:\n",
    "```sql\n",
    "SELECT * FROM empleados WHERE edad = 30;\n",
    "SELECT * FROM empleados WHERE salario != 50000;\n",
    "SELECT * FROM empleados WHERE salario > 60000;\n",
    "SELECT * FROM empleados WHERE edad >= 3;\n",
    "SELECT * FROM empleados WHERE edad > 30 AND salario > 50000;\n",
    "SELECT * FROM empleados WHERE edad < 25 OR salario > 70000;\n",
    "SELECT * FROM empleados WHERE NOT (edad > 40);\n",
    "```"
   ]
  },
  {
   "cell_type": "markdown",
   "id": "4c7a0651",
   "metadata": {},
   "source": [
    "<center>\n",
    "\n",
    "### Ejercicio 1\n",
    "\n",
    "</center>\n",
    "\n",
    "Escribe una consulta SQL que seleccione solo a los empleados que ganan más de 40,000."
   ]
  },
  {
   "cell_type": "code",
   "execution_count": 18,
   "id": "9c8b2be8",
   "metadata": {},
   "outputs": [
    {
     "data": {
      "text/html": [
       "<div>\n",
       "<style scoped>\n",
       "    .dataframe tbody tr th:only-of-type {\n",
       "        vertical-align: middle;\n",
       "    }\n",
       "\n",
       "    .dataframe tbody tr th {\n",
       "        vertical-align: top;\n",
       "    }\n",
       "\n",
       "    .dataframe thead th {\n",
       "        text-align: right;\n",
       "    }\n",
       "</style>\n",
       "<table border=\"1\" class=\"dataframe\">\n",
       "  <thead>\n",
       "    <tr style=\"text-align: right;\">\n",
       "      <th></th>\n",
       "      <th>id</th>\n",
       "      <th>nombre</th>\n",
       "      <th>edad</th>\n",
       "      <th>salario</th>\n",
       "    </tr>\n",
       "  </thead>\n",
       "  <tbody>\n",
       "    <tr>\n",
       "      <th>0</th>\n",
       "      <td>3</td>\n",
       "      <td>Sofía</td>\n",
       "      <td>35</td>\n",
       "      <td>52000.0</td>\n",
       "    </tr>\n",
       "    <tr>\n",
       "      <th>1</th>\n",
       "      <td>4</td>\n",
       "      <td>Pedro</td>\n",
       "      <td>28</td>\n",
       "      <td>45000.0</td>\n",
       "    </tr>\n",
       "  </tbody>\n",
       "</table>\n",
       "</div>"
      ],
      "text/plain": [
       "   id nombre  edad  salario\n",
       "0   3  Sofía    35  52000.0\n",
       "1   4  Pedro    28  45000.0"
      ]
     },
     "execution_count": 18,
     "metadata": {},
     "output_type": "execute_result"
    }
   ],
   "source": [
    "df_filtrado1 = pd.read_sql_query(\"SELECT * FROM empleados WHERE salario > 40000\", conn)\n",
    "\n",
    "df_filtrado1"
   ]
  },
  {
   "cell_type": "markdown",
   "id": "0b3b11c6",
   "metadata": {},
   "source": [
    "<center>\n",
    "\n",
    "### Ejercicio 2\n",
    "\n",
    "</center>\n",
    "\n",
    "Escribe una consulta SQL que seleccione solo a los empleados que ganan más de 20,000 y tienen una edad menor de 30."
   ]
  },
  {
   "cell_type": "code",
   "execution_count": 20,
   "id": "7f1f21e6",
   "metadata": {},
   "outputs": [
    {
     "data": {
      "text/html": [
       "<div>\n",
       "<style scoped>\n",
       "    .dataframe tbody tr th:only-of-type {\n",
       "        vertical-align: middle;\n",
       "    }\n",
       "\n",
       "    .dataframe tbody tr th {\n",
       "        vertical-align: top;\n",
       "    }\n",
       "\n",
       "    .dataframe thead th {\n",
       "        text-align: right;\n",
       "    }\n",
       "</style>\n",
       "<table border=\"1\" class=\"dataframe\">\n",
       "  <thead>\n",
       "    <tr style=\"text-align: right;\">\n",
       "      <th></th>\n",
       "      <th>id</th>\n",
       "      <th>nombre</th>\n",
       "      <th>edad</th>\n",
       "      <th>salario</th>\n",
       "    </tr>\n",
       "  </thead>\n",
       "  <tbody>\n",
       "    <tr>\n",
       "      <th>0</th>\n",
       "      <td>2</td>\n",
       "      <td>Luis</td>\n",
       "      <td>25</td>\n",
       "      <td>38000.0</td>\n",
       "    </tr>\n",
       "    <tr>\n",
       "      <th>1</th>\n",
       "      <td>4</td>\n",
       "      <td>Pedro</td>\n",
       "      <td>28</td>\n",
       "      <td>45000.0</td>\n",
       "    </tr>\n",
       "  </tbody>\n",
       "</table>\n",
       "</div>"
      ],
      "text/plain": [
       "   id nombre  edad  salario\n",
       "0   2   Luis    25  38000.0\n",
       "1   4  Pedro    28  45000.0"
      ]
     },
     "execution_count": 20,
     "metadata": {},
     "output_type": "execute_result"
    }
   ],
   "source": [
    "df_filtrado2 = pd.read_sql_query(\"SELECT * FROM empleados WHERE salario > 20000 AND edad < 30\", conn)\n",
    "\n",
    "df_filtrado2"
   ]
  },
  {
   "cell_type": "markdown",
   "id": "68d9c9c7",
   "metadata": {},
   "source": [
    "#### Nota\n",
    "\n",
    "En lo anterior hemos utilizado pandas, para poder acceder de forma más natural, pero python sin libreria nos permita hacer consulta de esta data usando \n",
    "\n",
    "\n",
    "\n"
   ]
  },
  {
   "cell_type": "code",
   "execution_count": 4,
   "id": "77ff12ae",
   "metadata": {},
   "outputs": [
    {
     "name": "stdout",
     "output_type": "stream",
     "text": [
      "(1, 'Ana', 30, 40000.0)\n",
      "(2, 'Luis', 25, 38000.0)\n",
      "(3, 'Sofía', 35, 52000.0)\n",
      "(4, 'Pedro', 28, 45000.0)\n"
     ]
    }
   ],
   "source": [
    "cursor = conn.cursor()\n",
    "data = cursor.execute(\"SELECT * FROM empleados\") \n",
    "for row in data: \n",
    "    print(row) "
   ]
  }
 ],
 "metadata": {
  "kernelspec": {
   "display_name": "Python 3",
   "language": "python",
   "name": "python3"
  },
  "language_info": {
   "codemirror_mode": {
    "name": "ipython",
    "version": 3
   },
   "file_extension": ".py",
   "mimetype": "text/x-python",
   "name": "python",
   "nbconvert_exporter": "python",
   "pygments_lexer": "ipython3",
   "version": "3.9.13"
  }
 },
 "nbformat": 4,
 "nbformat_minor": 5
}
